{
 "cells": [
  {
   "cell_type": "markdown",
   "metadata": {},
   "source": [
    "# 电影推荐系统"
   ]
  },
  {
   "cell_type": "code",
   "execution_count": 1,
   "metadata": {
    "scrolled": true
   },
   "outputs": [],
   "source": [
    "import numpy as np \n",
    "import pandas as pd \n",
    "import os\n",
    "from surprise import Reader, Dataset, SVD\n",
    "from surprise import KNNBaseline\n",
    "from surprise import KNNWithMeans\n",
    "from surprise import KNNBasic\n",
    "from surprise.model_selection import cross_validate\n",
    "import random\n",
    "import csv"
   ]
  },
  {
   "cell_type": "markdown",
   "metadata": {},
   "source": [
    "## 针对电影相似度的推荐算法"
   ]
  },
  {
   "cell_type": "code",
   "execution_count": 2,
   "metadata": {},
   "outputs": [],
   "source": [
    "class Movie_KNN_recommender:\n",
    "    def __init__(self, mode=0):\n",
    "        self.index = pd.read_csv('../数据/movie_info.csv')\n",
    "        self.reader = Reader()\n",
    "        self.ratings = pd.read_csv('../数据/user_movie.csv')\n",
    "        data = Dataset.load_from_df(self.ratings[['userId', 'movieId', 'rating']], self.reader)\n",
    "        trainset = data.build_full_trainset()\n",
    "        sim_options = {'name': 'pearson_baseline', 'user_based': False}\n",
    "        # 建立不同模式下的KNN\n",
    "        if mode == 0:\n",
    "            self.algo = KNNBaseline(sim_options=sim_options)\n",
    "        elif mode == 1:\n",
    "            self.algo = KNNWithMeans(sim_options=sim_options)\n",
    "        elif mode == 2:\n",
    "            self.algo = KNNBasic(sim_options=sim_options)\n",
    "        else:\n",
    "            exit(0)\n",
    "        self.algo.fit(trainset)\n",
    "\n",
    "    def search_movie_neighbors(self, movieID, num=10):\n",
    "        '''获取相似电影'''\n",
    "        movie_id = self.algo.trainset.to_inner_iid(movieID)\n",
    "        movie_neighbors = self.algo.get_neighbors(movie_id, k=num)\n",
    "        movie_neighbors = [self.algo.trainset.to_raw_iid(inner_id) for inner_id in movie_neighbors]\n",
    "        print(movie_neighbors)\n",
    "        return movie_neighbors\n",
    "    \n",
    "    def recommend_movies(self, movieID, num=10):\n",
    "        '''输出推荐的电影名称'''\n",
    "        movie_recommend = self.search_movie_neighbors(movieID, num)\n",
    "        recommending = []\n",
    "        for i in movie_recommend:\n",
    "            recommending.append(self.index[self.index.movieId == i]['title'])\n",
    "        return recommending"
   ]
  },
  {
   "cell_type": "code",
   "execution_count": 3,
   "metadata": {},
   "outputs": [
    {
     "name": "stdout",
     "output_type": "stream",
     "text": [
      "Estimating biases using als...\n",
      "Computing the pearson_baseline similarity matrix...\n",
      "Done computing similarity matrix.\n",
      "[77561, 89745, 87232, 5349, 2571, 3793, 58559, 68358, 50872, 69122]\n",
      "Iron Man 2 (2010)\n",
      "Avengers, The (2012)\n",
      "X-Men: First Class (2011)\n",
      "Spider-Man (2002)\n",
      "Matrix, The (1999)\n",
      "X-Men (2000)\n",
      "Dark Knight, The (2008)\n",
      "Star Trek (2009)\n",
      "Ratatouille (2007)\n",
      "Hangover, The (2009)\n"
     ]
    }
   ],
   "source": [
    "test = Movie_KNN_recommender()\n",
    "result = test.recommend_movies(59315, 10)\n",
    "for i in result:\n",
    "    print(i.values[0])"
   ]
  },
  {
   "cell_type": "markdown",
   "metadata": {},
   "source": [
    "## 针对⽤户相似度的推荐算法"
   ]
  },
  {
   "cell_type": "code",
   "execution_count": 4,
   "metadata": {},
   "outputs": [],
   "source": [
    "# 提取userid和movieid \n",
    "ratings = pd.read_csv('../数据/user_movie.csv')\n",
    "usrid = []\n",
    "movieid = []\n",
    "for i in range(len(ratings['userId'])):\n",
    "    if not ratings['userId'][i] in usrid:\n",
    "        usrid.append(ratings['userId'][i])\n",
    "    if not ratings['movieId'][i] in movieid:\n",
    "        movieid.append(ratings['movieId'][i])\n",
    "\n",
    "# 拆分训练集和测试集\n",
    "train = []\n",
    "valid = []\n",
    "data_all = []\n",
    "index = 0\n",
    "# 所有数据转化为大列表data_all\n",
    "for user in usrid:\n",
    "    this_user = []\n",
    "    if index >= len(ratings['userId']):\n",
    "        break\n",
    "    while ratings['userId'][index] == user:\n",
    "        index += 1\n",
    "        if index >= len(ratings['userId']):\n",
    "            break\n",
    "        temp = [ratings['userId'][index], ratings['movieId'][index], ratings['rating'][index]]\n",
    "        this_user.append(temp)\n",
    "    data_all.append(this_user)\n",
    "\n",
    "threshold = 0.9\n",
    "test_data = []\n",
    "with open(\"../数据/train.csv\", \"w\") as csvfile:\n",
    "    writer = csv.writer(csvfile)\n",
    "    writer.writerow(['userId', 'movieId','rating'])\n",
    "    for this_user in data_all:\n",
    "        length = len(this_user)\n",
    "        for i in range(length):\n",
    "            temp = random.random()\n",
    "            if temp < threshold:\n",
    "                writer.writerow(this_user[i])\n",
    "            else:\n",
    "                test_data.append(this_user[i])\n",
    "\n",
    "with open(\"../数据/test.csv\", \"w\") as csvfile:\n",
    "    writer = csv.writer(csvfile)\n",
    "    writer.writerow(['userId', 'movieId', 'rating'])\n",
    "    for row in test_data:\n",
    "        writer.writerow(row)"
   ]
  },
  {
   "cell_type": "code",
   "execution_count": 5,
   "metadata": {
    "scrolled": true
   },
   "outputs": [],
   "source": [
    "class Personal_KNN_recommender:\n",
    "    def __init__(self, mode=0):\n",
    "        self.index = pd.read_csv('../数据/movie_info.csv')\n",
    "        self.reader = Reader()\n",
    "        self.ratings = pd.read_csv('../数据/train.csv')\n",
    "        self.testings = pd.read_csv('../数据/test.csv')\n",
    "        data = Dataset.load_from_df(self.ratings[['userId', 'movieId', 'rating']], self.reader)\n",
    "        trainset = data.build_full_trainset()\n",
    "        sim_options = {'name': 'pearson_baseline', 'user_based': True}\n",
    "        if mode == 0:\n",
    "            self.algo = KNNBaseline(sim_options=sim_options)\n",
    "        elif mode == 1:\n",
    "            self.algo = KNNWithMeans(sim_options=sim_options)\n",
    "        elif mode == 2:\n",
    "            self.algo = KNNBasic(sim_options=sim_options)\n",
    "        else:\n",
    "            exit(0)\n",
    "        self.userid = []\n",
    "        for i in range(len(self.testings['userId'])):\n",
    "            if not self.testings['userId'][i] in self.userid:\n",
    "                self.userid.append(self.testings['userId'][i])\n",
    "        self.algo.fit(trainset)\n",
    "\n",
    "    def search_user_neighbors(self, usrID, num=10):\n",
    "        '''获取相似用户'''\n",
    "        user_id = self.algo.trainset.to_inner_uid(usrID)\n",
    "        user_neighbors = self.algo.get_neighbors(user_id, k=num)\n",
    "        user_neighbors = [self.algo.trainset.to_raw_uid(inner_id) for inner_id in user_neighbors]\n",
    "        return user_neighbors\n",
    "\n",
    "\n",
    "    def recommend_movies(self, usrID, num=5):\n",
    "        '''获取推荐电影'''\n",
    "        existed_movie = list(self.ratings[self.ratings.userId==usrID]['movieId'])\n",
    "        similar_users = self.search_user_neighbors(usrID, num)\n",
    "        movies_dict = {}\n",
    "        for i in similar_users:\n",
    "            movie = list(self.ratings[self.ratings.userId == i]['movieId'])\n",
    "            vote = list(self.ratings[self.ratings.userId == i]['rating'])\n",
    "            for j in range(len(vote)):\n",
    "                if not (movie[j] in existed_movie):\n",
    "                    if movie[j] in movies_dict.keys():\n",
    "                        movies_dict[movie[j]] += vote[j]\n",
    "                    else:\n",
    "                        movies_dict[movie[j]] = vote[j]   # 从最相似的用户中挑选出没看过的电影，评分相加\n",
    "        result = sorted(movies_dict.items(), key=lambda x: x[1], reverse=True)  # 对评分进行排序\n",
    "        result = result[:num]  # 挑选出最高评分的10部电影\n",
    "        recommending = []\n",
    "        recommending_id = []\n",
    "        for i in result:\n",
    "            recommending.append(self.index[self.index.movieId==i[0]]['title'])\n",
    "            recommending_id.append(i[0])\n",
    "        return recommending, recommending_id  # 返回推荐的电影名字和id"
   ]
  },
  {
   "cell_type": "code",
   "execution_count": 6,
   "metadata": {},
   "outputs": [
    {
     "name": "stdout",
     "output_type": "stream",
     "text": [
      "Estimating biases using als...\n",
      "Computing the pearson_baseline similarity matrix...\n",
      "Done computing similarity matrix.\n",
      "[46    Usual Suspects, The (1995)\n",
      "Name: title, dtype: object, 659    Godfather, The (1972)\n",
      "Name: title, dtype: object, 898    Star Wars: Episode V - The Empire Strikes Back...\n",
      "Name: title, dtype: object, 922    Godfather: Part II, The (1974)\n",
      "Name: title, dtype: object, 1183    Men in Black (a.k.a. MIB) (1997)\n",
      "Name: title, dtype: object, 31    Twelve Monkeys (a.k.a. 12 Monkeys) (1995)\n",
      "Name: title, dtype: object, 1979    Star Wars: Episode I - The Phantom Menace (1999)\n",
      "Name: title, dtype: object, 2259    Being John Malkovich (1999)\n",
      "Name: title, dtype: object, 602    Dr. Strangelove or: How I Learned to Stop Worr...\n",
      "Name: title, dtype: object, 909    Apocalypse Now (1979)\n",
      "Name: title, dtype: object]\n",
      "[50, 858, 1196, 1221, 1580, 32, 2628, 2997, 750, 1208]\n"
     ]
    }
   ],
   "source": [
    "test = Personal_KNN_recommender()\n",
    "result = test.recommend_movies(66, 10)\n",
    "for i in result:\n",
    "    print(i)"
   ]
  }
 ],
 "metadata": {
  "kernelspec": {
   "display_name": "Python 3 (ipykernel)",
   "language": "python",
   "name": "python3"
  },
  "language_info": {
   "codemirror_mode": {
    "name": "ipython",
    "version": 3
   },
   "file_extension": ".py",
   "mimetype": "text/x-python",
   "name": "python",
   "nbconvert_exporter": "python",
   "pygments_lexer": "ipython3",
   "version": "3.7.15"
  },
  "toc": {
   "base_numbering": 1,
   "nav_menu": {},
   "number_sections": true,
   "sideBar": true,
   "skip_h1_title": false,
   "title_cell": "Table of Contents",
   "title_sidebar": "Contents",
   "toc_cell": false,
   "toc_position": {
    "height": "calc(100% - 180px)",
    "left": "10px",
    "top": "150px",
    "width": "254.825px"
   },
   "toc_section_display": true,
   "toc_window_display": false
  }
 },
 "nbformat": 4,
 "nbformat_minor": 4
}
